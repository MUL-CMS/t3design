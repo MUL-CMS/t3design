{
 "cells": [
  {
   "cell_type": "code",
   "execution_count": 2,
   "metadata": {},
   "outputs": [],
   "source": [
    "from ase import Atoms\n",
    "from ase.visualize import view\n",
    "import numpy as np"
   ]
  },
  {
   "cell_type": "code",
   "execution_count": 3,
   "metadata": {},
   "outputs": [],
   "source": [
    "a_bcc = 3.11"
   ]
  },
  {
   "cell_type": "code",
   "execution_count": 4,
   "metadata": {},
   "outputs": [
    {
     "data": {
      "application/vnd.jupyter.widget-view+json": {
       "model_id": "6f1715d3b602409d86ba4f979b89396f",
       "version_major": 2,
       "version_minor": 0
      },
      "text/plain": []
     },
     "metadata": {},
     "output_type": "display_data"
    },
    {
     "data": {
      "application/vnd.jupyter.widget-view+json": {
       "model_id": "390b730a452e4341b6c5e32f3013c4a9",
       "version_major": 2,
       "version_minor": 0
      },
      "text/plain": [
       "HBox(children=(NGLWidget(), VBox(children=(Dropdown(description='Show', options=('All', 'Ti'), value='All'), D…"
      ]
     },
     "execution_count": 4,
     "metadata": {},
     "output_type": "execute_result"
    }
   ],
   "source": [
    "bccTi = Atoms(cell=[a_bcc]*3, symbols='Ti2', scaled_positions=[[0, 0, 0], [0.5, 0.5, 0.5]], pbc=True)\n",
    "view(bccTi, viewer='nglview')"
   ]
  },
  {
   "cell_type": "code",
   "execution_count": 16,
   "metadata": {},
   "outputs": [
    {
     "data": {
      "application/vnd.jupyter.widget-view+json": {
       "model_id": "36b0379c9e45485bb4d5c141b8ddb8e9",
       "version_major": 2,
       "version_minor": 0
      },
      "text/plain": [
       "HBox(children=(NGLWidget(), VBox(children=(Dropdown(description='Show', options=('All', 'H'), value='All'), Dr…"
      ]
     },
     "execution_count": 16,
     "metadata": {},
     "output_type": "execute_result"
    }
   ],
   "source": [
    "positions = [np.array([i, 0, (22-i*4)%22]) for i in range(11)] + [np.array([i, 1, (11+22-i*4)%22]) for i in range(11)]\n",
    "positions /= np.array([11, 2, 22])\n",
    "twin_cell = Atoms(\n",
    "    cell = a_bcc*np.array([5.5/(3**2+1+1)**0.5, 2/(1+1+0)**0.5, 22/(2**2+3**2+3**2)**0.5]),\n",
    "    symbols = 'H22',\n",
    "    scaled_positions = np.array(positions),\n",
    "    pbc=True\n",
    ")\n",
    "view(twin_cell, viewer='nglview')"
   ]
  },
  {
   "cell_type": "code",
   "execution_count": 19,
   "metadata": {},
   "outputs": [
    {
     "data": {
      "text/plain": [
       "(3.11, 4.3982041789803255, 5.157351549002646, 2.344250704092112)"
      ]
     },
     "execution_count": 19,
     "metadata": {},
     "output_type": "execute_result"
    }
   ],
   "source": [
    "abeta = bccTi.cell.cellpar()[0]\n",
    "bbeta = twin_cell.cell.cellpar()[1]\n",
    "vbeta = twin_cell.cell.cellpar()[0]\n",
    "wbeta = twin_cell.cell.cellpar()[2]\n",
    "delta4 = (3*abeta**2+bbeta**2)/(4*vbeta)\n",
    "abeta, bbeta, vbeta, delta4"
   ]
  },
  {
   "cell_type": "markdown",
   "metadata": {},
   "source": [
    "For the $\\delta_1$ to work, magnitude of $\\delta_2$ and $\\delta_3$ have to adjusted, and also final $\\delta_5$ shuffle should be applied"
   ]
  },
  {
   "cell_type": "code",
   "execution_count": 53,
   "metadata": {},
   "outputs": [],
   "source": [
    "# delta1 = bbeta/9\n",
    "# delta1_x = delta1*(2/11)**0.5\n",
    "# delta1_z = delta1*3/11**0.5"
   ]
  },
  {
   "cell_type": "code",
   "execution_count": 52,
   "metadata": {},
   "outputs": [],
   "source": [
    "for zeta in np.linspace(0, 1, 22):\n",
    "    ctwin = (wbeta**2+(2*zeta*delta4)**2)**0.5\n",
    "    gtwin = np.arctan(zeta*delta4/wbeta)*180/np.pi\n",
    "    twin = twin_cell.copy()\n",
    "    pos = twin.get_positions()\n",
    "    for i in range(len(pos)):\n",
    "        pos[i, 0] += 0.5*2*pos[i, 2]*zeta*delta4/wbeta\n",
    "        if abs(pos[i, 1]) < 0.1:\n",
    "            # pos[i, 2] += zeta*wbeta/22\n",
    "            # pos[i, 0] += delta1_x\n",
    "            # pos[i, 2] += delta1_z\n",
    "        else:\n",
    "            pos[i, 2] -= zeta*wbeta/22\n",
    "    twin.set_positions(pos)\n",
    "    # new cell corresponding to the above displacements\n",
    "    twin.set_cell([vbeta, bbeta, ctwin, 90, 90-gtwin, 90], scale_atoms=False)\n",
    "    # apply additional shear, thereby doubling the shear angle\n",
    "    twin.set_cell([vbeta, bbeta, ctwin, 90, 90-2*gtwin, 90], scale_atoms=True)\n",
    "    twin.write(filename=f'str_z={zeta:.3f}.vasp', format='vasp')"
   ]
  }
 ],
 "metadata": {
  "kernelspec": {
   "display_name": "base",
   "language": "python",
   "name": "python3"
  },
  "language_info": {
   "codemirror_mode": {
    "name": "ipython",
    "version": 3
   },
   "file_extension": ".py",
   "mimetype": "text/x-python",
   "name": "python",
   "nbconvert_exporter": "python",
   "pygments_lexer": "ipython3",
   "version": "3.11.6"
  }
 },
 "nbformat": 4,
 "nbformat_minor": 2
}
