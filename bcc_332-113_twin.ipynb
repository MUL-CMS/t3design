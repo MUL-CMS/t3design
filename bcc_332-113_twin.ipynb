{
 "cells": [
  {
   "cell_type": "code",
   "execution_count": 1,
   "metadata": {},
   "outputs": [],
   "source": [
    "from ase import Atoms\n",
    "from ase.visualize import view\n",
    "import numpy as np"
   ]
  },
  {
   "cell_type": "code",
   "execution_count": 2,
   "metadata": {},
   "outputs": [],
   "source": [
    "a_bcc = 3.11"
   ]
  },
  {
   "cell_type": "code",
   "execution_count": 3,
   "metadata": {},
   "outputs": [
    {
     "data": {
      "application/vnd.jupyter.widget-view+json": {
       "model_id": "9260ad4c895343ff93762b60904111ba",
       "version_major": 2,
       "version_minor": 0
      },
      "text/plain": []
     },
     "metadata": {},
     "output_type": "display_data"
    },
    {
     "data": {
      "application/vnd.jupyter.widget-view+json": {
       "model_id": "a9f88d5968e74aedb1f5f89aca923b02",
       "version_major": 2,
       "version_minor": 0
      },
      "text/plain": [
       "HBox(children=(NGLWidget(), VBox(children=(Dropdown(description='Show', options=('All', 'Ti'), value='All'), D…"
      ]
     },
     "execution_count": 3,
     "metadata": {},
     "output_type": "execute_result"
    }
   ],
   "source": [
    "bccTi = Atoms(cell=[a_bcc]*3, symbols='Ti2', scaled_positions=[[0, 0, 0], [0.5, 0.5, 0.5]], pbc=True)\n",
    "view(bccTi, viewer='nglview')"
   ]
  },
  {
   "cell_type": "code",
   "execution_count": 4,
   "metadata": {},
   "outputs": [
    {
     "data": {
      "application/vnd.jupyter.widget-view+json": {
       "model_id": "d78988df86274322bfc783827d911b95",
       "version_major": 2,
       "version_minor": 0
      },
      "text/plain": [
       "HBox(children=(NGLWidget(), VBox(children=(Dropdown(description='Show', options=('All', 'H'), value='All'), Dr…"
      ]
     },
     "execution_count": 4,
     "metadata": {},
     "output_type": "execute_result"
    }
   ],
   "source": [
    "positions = [np.array([i, 0, (22-i*4)%22]) for i in range(11)] + [np.array([i, 1, (11+22-i*4)%22]) for i in range(11)]\n",
    "positions /= np.array([11, 2, 22])\n",
    "twin_cell = Atoms(\n",
    "    cell = a_bcc*np.array([5.5/(3**2+1+1)**0.5, 2/(1+1+0)**0.5, 22/(2**2+3**2+3**2)**0.5]),\n",
    "    symbols = 'H22',\n",
    "    scaled_positions = np.array(positions),\n",
    "    pbc=True\n",
    ")\n",
    "view(twin_cell, viewer='nglview')"
   ]
  },
  {
   "cell_type": "code",
   "execution_count": 81,
   "metadata": {},
   "outputs": [
    {
     "data": {
      "text/plain": [
       "(3.11,\n",
       " 4.3982041789803255,\n",
       " 5.157351549002646,\n",
       " 0.4688501408184223,\n",
       " 0.4688501408184224)"
      ]
     },
     "execution_count": 81,
     "metadata": {},
     "output_type": "execute_result"
    }
   ],
   "source": [
    "abeta = bccTi.cell.cellpar()[0]\n",
    "bbeta = twin_cell.cell.cellpar()[1]\n",
    "vbeta = twin_cell.cell.cellpar()[0]\n",
    "wbeta = twin_cell.cell.cellpar()[2]\n",
    "\n",
    "# delta4 = (3*abeta**2+bbeta**2)/(4*vbeta)\n",
    "delta4 = (3*abeta**2-bbeta**2)/(4*vbeta)\n",
    "abeta, bbeta, vbeta, delta4, abeta/(2*11**0.5)"
   ]
  },
  {
   "cell_type": "markdown",
   "metadata": {},
   "source": [
    "For the $\\delta_1$ to work, magnitude of $\\delta_2$ and $\\delta_3$ have to adjusted, and also final $\\delta_5$ shuffle should be applied"
   ]
  },
  {
   "cell_type": "code",
   "execution_count": 77,
   "metadata": {},
   "outputs": [],
   "source": [
    "# delta1 = bbeta/9\n",
    "# delta1_x = delta1*(2/11)**0.5\n",
    "# delta1_z = delta1*3/11**0.5"
   ]
  },
  {
   "cell_type": "code",
   "execution_count": 84,
   "metadata": {},
   "outputs": [],
   "source": [
    "for zeta in np.linspace(0, 1, 43):\n",
    "    # ctwin = (wbeta**2+(zeta*delta4)**2)**0.5\n",
    "    # gtwin = np.arctan(zeta*delta4/wbeta)*180/np.pi\n",
    "    twin = twin_cell.copy()\n",
    "    twin.set_cell([[vbeta, 0, 0], [0, bbeta, 0], [zeta*delta4, 0, wbeta]], scale_atoms=True)\n",
    "    pos = twin.get_positions()\n",
    "    for i in range(len(pos)):        \n",
    "        # pos[i, 0] += pos[i, 2]*zeta*delta4/wbeta\n",
    "        if abs(pos[i, 1]) < 0.1:\n",
    "            pos[i, 2] += zeta*wbeta/22\n",
    "            # pos[i, 2] += wbeta/22\n",
    "            # pos[i, 0] += delta1_x\n",
    "            # pos[i, 2] += delta1_z\n",
    "        else:\n",
    "            pos[i, 2] -= zeta*wbeta/22\n",
    "            # pos[i, 2] -= wbeta/22\n",
    "        # pos[i, 0] += pos[i, 2]*zeta*delta4/wbeta\n",
    "    twin.set_positions(pos)\n",
    "    # new cell corresponding to the above displacements\n",
    "    # twin.set_cell([vbeta, bbeta, ctwin, 90, 90-gtwin, 90], scale_atoms=False)\n",
    "    # twin.set_cell([[vbeta, 0, 0], [0, bbeta, 0], [zeta*delta4, 0, wbeta]], scale_atoms=False)\n",
    "    # apply additional shear, thereby doubling the shear angle\n",
    "    # print(gtwin)\n",
    "    # gtwin *=1.028\n",
    "    # ctwin = (twin_cell.cell.volume/(vbeta*bbeta))/np.cos(2*gtwin*np.pi/180)\n",
    "    # twin.set_cell([vbeta, bbeta, ctwin, 90, 90-2*gtwin, 90], scale_atoms=True)\n",
    "    twin.set_cell([[vbeta, 0, 0], [0, bbeta, 0], [2*zeta*vbeta, 0, wbeta]], scale_atoms=True)\n",
    "    twin.write(filename=f'str_z={zeta:.3f}.vasp', format='vasp')"
   ]
  },
  {
   "cell_type": "code",
   "execution_count": 60,
   "metadata": {},
   "outputs": [
    {
     "data": {
      "text/plain": [
       "70.3980354332655"
      ]
     },
     "execution_count": 60,
     "metadata": {},
     "output_type": "execute_result"
    }
   ],
   "source": [
    "np.arccos(2.60/7.75)*180/np.pi"
   ]
  },
  {
   "cell_type": "code",
   "execution_count": 65,
   "metadata": {},
   "outputs": [
    {
     "data": {
      "text/plain": [
       "(2.344250704092112, 5.157351549002646)"
      ]
     },
     "execution_count": 65,
     "metadata": {},
     "output_type": "execute_result"
    }
   ],
   "source": [
    "delta4, vbeta"
   ]
  },
  {
   "cell_type": "code",
   "execution_count": null,
   "metadata": {},
   "outputs": [],
   "source": []
  }
 ],
 "metadata": {
  "kernelspec": {
   "display_name": "base",
   "language": "python",
   "name": "python3"
  },
  "language_info": {
   "codemirror_mode": {
    "name": "ipython",
    "version": 3
   },
   "file_extension": ".py",
   "mimetype": "text/x-python",
   "name": "python",
   "nbconvert_exporter": "python",
   "pygments_lexer": "ipython3",
   "version": "3.11.6"
  }
 },
 "nbformat": 4,
 "nbformat_minor": 2
}
