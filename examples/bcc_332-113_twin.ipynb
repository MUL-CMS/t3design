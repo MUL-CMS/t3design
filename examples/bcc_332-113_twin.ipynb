{
 "cells": [
  {
   "cell_type": "code",
   "execution_count": 1,
   "metadata": {},
   "outputs": [],
   "source": [
    "from ase import Atoms\n",
    "from ase.visualize import view\n",
    "import numpy as np"
   ]
  },
  {
   "cell_type": "code",
   "execution_count": 2,
   "metadata": {},
   "outputs": [],
   "source": [
    "a_bcc = 3.11"
   ]
  },
  {
   "cell_type": "code",
   "execution_count": 3,
   "metadata": {},
   "outputs": [
    {
     "data": {
      "application/vnd.jupyter.widget-view+json": {
       "model_id": "c3b231ad52154824baf31eab50e880e2",
       "version_major": 2,
       "version_minor": 0
      },
      "text/plain": []
     },
     "metadata": {},
     "output_type": "display_data"
    },
    {
     "data": {
      "application/vnd.jupyter.widget-view+json": {
       "model_id": "901e6b8ae18d4f67a80d9b9cb867a8a8",
       "version_major": 2,
       "version_minor": 0
      },
      "text/plain": [
       "HBox(children=(NGLWidget(), VBox(children=(Dropdown(description='Show', options=('All', 'Ti'), value='All'), D…"
      ]
     },
     "execution_count": 3,
     "metadata": {},
     "output_type": "execute_result"
    }
   ],
   "source": [
    "bccTi = Atoms(cell=[a_bcc]*3, symbols='Ti2', scaled_positions=[[0, 0, 0], [0.5, 0.5, 0.5]], pbc=True)\n",
    "view(bccTi, viewer='nglview')"
   ]
  },
  {
   "cell_type": "code",
   "execution_count": 7,
   "metadata": {},
   "outputs": [
    {
     "data": {
      "application/vnd.jupyter.widget-view+json": {
       "model_id": "d4579baae0b149049c3a86ccc3470d62",
       "version_major": 2,
       "version_minor": 0
      },
      "text/plain": [
       "HBox(children=(NGLWidget(), VBox(children=(Dropdown(description='Show', options=('All', 'H'), value='All'), Dr…"
      ]
     },
     "execution_count": 7,
     "metadata": {},
     "output_type": "execute_result"
    }
   ],
   "source": [
    "positions = [np.array([i, 0, (22-i*4)%22]) for i in range(11)] + [np.array([i, 1, (11+22-i*4)%22]) for i in range(11)]\n",
    "positions /= np.array([11, 2, 22])\n",
    "twin_cell = Atoms(\n",
    "    cell = a_bcc*np.array([5.5/(3**2+1+1)**0.5, 2/(1+1+0)**0.5, 22/(2**2+3**2+3**2)**0.5]),\n",
    "    symbols = 'H22',\n",
    "    scaled_positions = np.array(positions),\n",
    "    pbc=True\n",
    ")\n",
    "view(twin_cell, viewer='nglview')"
   ]
  },
  {
   "cell_type": "code",
   "execution_count": 115,
   "metadata": {},
   "outputs": [
    {
     "data": {
      "text/plain": [
       "(3.11, 4.3982041789803255, 5.157351549002646, 5.499999999999999)"
      ]
     },
     "execution_count": 115,
     "metadata": {},
     "output_type": "execute_result"
    }
   ],
   "source": [
    "abeta = bccTi.cell.cellpar()[0]\n",
    "bbeta = twin_cell.cell.cellpar()[1]\n",
    "vbeta = twin_cell.cell.cellpar()[0]\n",
    "wbeta = twin_cell.cell.cellpar()[2]\n",
    "\n",
    "delta4 = (3*abeta**2 - bbeta**2)/(4*vbeta) * 5.5\n",
    "abeta, bbeta, vbeta, delta4 /( abeta/(2*11**0.5))"
   ]
  },
  {
   "cell_type": "markdown",
   "metadata": {},
   "source": [
    "For the $\\delta_1$ to work, magnitude of $\\delta_2$ and $\\delta_3$ have to adjusted, and also final $\\delta_5$ shuffle should be applied"
   ]
  },
  {
   "cell_type": "code",
   "execution_count": 116,
   "metadata": {},
   "outputs": [],
   "source": [
    "for zeta in np.linspace(0, 1, 43):\n",
    "    twin = twin_cell.copy()\n",
    "    pos = twin.get_positions()\n",
    "    for i in range(len(pos)):        \n",
    "        # f = 1.0\n",
    "        pos[i, 0] += pos[i, 2]*zeta*delta4/wbeta\n",
    "        if abs(pos[i, 1]) < 0.1:\n",
    "            pos[i, 2] += zeta*wbeta/22\n",
    "        else:\n",
    "            pos[i, 2] -= zeta*wbeta/22\n",
    "    twin.set_positions(pos)\n",
    "    # new cell corresponding to the above displacements\n",
    "    twin.set_cell([[vbeta, 0, 0], [0, bbeta, 0], [zeta*delta4, 0, wbeta]], scale_atoms=False)\n",
    "    # apply additional shear, thereby recovering the PBC\n",
    "    twin.set_cell([[vbeta, 0, 0], [0, bbeta, 0], [zeta*vbeta, 0, wbeta]], scale_atoms=True)\n",
    "    twin.write(filename=f'str_z={zeta:.3f}.vasp', format='vasp')"
   ]
  }
 ],
 "metadata": {
  "kernelspec": {
   "display_name": "base",
   "language": "python",
   "name": "python3"
  },
  "language_info": {
   "codemirror_mode": {
    "name": "ipython",
    "version": 3
   },
   "file_extension": ".py",
   "mimetype": "text/x-python",
   "name": "python",
   "nbconvert_exporter": "python",
   "pygments_lexer": "ipython3",
   "version": "3.11.6"
  }
 },
 "nbformat": 4,
 "nbformat_minor": 2
}
