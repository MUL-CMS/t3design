{
 "cells": [
  {
   "cell_type": "code",
   "execution_count": 1,
   "metadata": {},
   "outputs": [],
   "source": [
    "from ase import Atoms\n",
    "from ase.visualize import view\n",
    "import numpy as np"
   ]
  },
  {
   "cell_type": "code",
   "execution_count": 2,
   "metadata": {},
   "outputs": [],
   "source": [
    "a_bcc = 3.11"
   ]
  },
  {
   "cell_type": "code",
   "execution_count": 3,
   "metadata": {},
   "outputs": [
    {
     "data": {
      "application/vnd.jupyter.widget-view+json": {
       "model_id": "d997f73b12d446599a562fa93e52a151",
       "version_major": 2,
       "version_minor": 0
      },
      "text/plain": []
     },
     "metadata": {},
     "output_type": "display_data"
    },
    {
     "data": {
      "application/vnd.jupyter.widget-view+json": {
       "model_id": "912e3bc976a8419d98361844393b902f",
       "version_major": 2,
       "version_minor": 0
      },
      "text/plain": [
       "HBox(children=(NGLWidget(), VBox(children=(Dropdown(description='Show', options=('All', 'Ti'), value='All'), D…"
      ]
     },
     "execution_count": 3,
     "metadata": {},
     "output_type": "execute_result"
    }
   ],
   "source": [
    "bccTi = Atoms(cell=[a_bcc]*3, symbols='Ti2', scaled_positions=[[0, 0, 0], [0.5, 0.5, 0.5]], pbc=True)\n",
    "view(bccTi, viewer='nglview')"
   ]
  },
  {
   "cell_type": "code",
   "execution_count": 4,
   "metadata": {},
   "outputs": [
    {
     "data": {
      "application/vnd.jupyter.widget-view+json": {
       "model_id": "850e0e2a54394794acbdbd0c7aa5fc70",
       "version_major": 2,
       "version_minor": 0
      },
      "text/plain": [
       "HBox(children=(NGLWidget(), VBox(children=(Dropdown(description='Show', options=('All', 'H'), value='All'), Dr…"
      ]
     },
     "execution_count": 4,
     "metadata": {},
     "output_type": "execute_result"
    }
   ],
   "source": [
    "positions = [np.array([i, 0, (6-2*i)%6]) for i in range(3)] + [np.array([i, 1, (6-2*i+3)%6]) for i in range(3)]\n",
    "positions /= np.array([3, 2, 6])\n",
    "twin_cell = Atoms(\n",
    "    cell = a_bcc*np.array([(1+1+1)**0.5/2, (1+1+0)**0.5, (2**2+1+1)**0.5]),\n",
    "    symbols = 'H6',\n",
    "    scaled_positions = np.array(positions),\n",
    "    pbc=True,\n",
    ")\n",
    "view(twin_cell*(1,1,1), viewer='nglview')"
   ]
  },
  {
   "cell_type": "code",
   "execution_count": 6,
   "metadata": {},
   "outputs": [],
   "source": [
    "twin_cell.cell.cellpar()\n",
    "twin_cell.write(filename=f'twin_112-111.vasp', format='vasp')"
   ]
  },
  {
   "cell_type": "code",
   "execution_count": 29,
   "metadata": {},
   "outputs": [],
   "source": [
    "bbeta = twin_cell.cell.cellpar()[1]\n",
    "vbeta = twin_cell.cell.cellpar()[0]\n",
    "wbeta = twin_cell.cell.cellpar()[2]\n",
    "\n",
    "shifts = np.array([\n",
    "    np.array([0, 0, 0]),\n",
    "    np.array([0, 0, 0]),\n",
    "    np.array([0, 0, 0]),\n",
    "    np.array([vbeta/2, 0, 0]),\n",
    "    np.array([-vbeta/2, 0, 0]),\n",
    "    np.array([-vbeta/2, 0, 0])\n",
    "])\n",
    "\n",
    "for zeta in np.linspace(0, 1, 43):\n",
    "    twin = twin_cell.copy()\n",
    "    pos = twin.get_positions()\n",
    "    # apply shear\n",
    "    twin.set_cell([[vbeta, 0, 0], [0, bbeta, 0], [-zeta*vbeta, 0, wbeta]], scale_atoms=True)\n",
    "    # apply additional shuffling\n",
    "    twin.set_positions(twin.positions + zeta*shifts)\n",
    "    twin *= (3, 2, 2)\n",
    "    twin.write(filename=f'str_z={zeta:.3f}.vasp', format='vasp')"
   ]
  },
  {
   "cell_type": "markdown",
   "metadata": {},
   "source": [
    "## smaller cell"
   ]
  },
  {
   "cell_type": "code",
   "execution_count": 8,
   "metadata": {},
   "outputs": [
    {
     "data": {
      "application/vnd.jupyter.widget-view+json": {
       "model_id": "398d1fdf8a8c4cb7b4f9ea5d3135ce89",
       "version_major": 2,
       "version_minor": 0
      },
      "text/plain": [
       "HBox(children=(NGLWidget(), VBox(children=(Dropdown(description='Show', options=('All', 'H'), value='All'), Dr…"
      ]
     },
     "execution_count": 8,
     "metadata": {},
     "output_type": "execute_result"
    }
   ],
   "source": [
    "positions = [[0, 0, 0], [0.5, 0, 0.5],\n",
    "             [0.25, 0.5, 0.25], [0.75, 0.5, 0.75]]\n",
    "v = a_bcc*np.array([(1+1+1)**0.5/2, (1+1+0)**0.5, (2**2+1+1)**0.5])\n",
    "twin_cell = Atoms(\n",
    "    cell = [[v[0], 0, 0], [0, v[1], 0], [1/3*v[0], 0, 2/3*v[2]]],\n",
    "    symbols = 'H4',\n",
    "    scaled_positions = np.array(positions),\n",
    "    pbc=True,\n",
    ")\n",
    "view(twin_cell*(3,2,2), viewer='nglview')"
   ]
  },
  {
   "cell_type": "code",
   "execution_count": 9,
   "metadata": {},
   "outputs": [],
   "source": [
    "v = a_bcc*np.array([(1+1+1)**0.5/2, (1+1+0)**0.5, (2**2+1+1)**0.5])\n",
    "positions = np.array([[0, 0, 0], [0.5, 0, 0.5],\n",
    "             [0.25, 0.5, 0.25], [0.75, 0.5, 0.75]])\n",
    "shifts = np.array([\n",
    "    np.array([0, 0, 0]),\n",
    "    np.array([0, 0, 0]),\n",
    "    np.array([1/2, 0, 0]),\n",
    "    np.array([-1/2, 0, 0])\n",
    "])\n",
    "\n",
    "for zeta in np.linspace(0, 1, 43):\n",
    "    twin = Atoms(\n",
    "        cell = [[v[0], 0, 0], [0, v[1], 0], [1/3*v[0]-zeta*2/3*v[0], 0, 2/3*v[2]]],\n",
    "        symbols = 'H4',\n",
    "        # apply shear+shuffling\n",
    "        scaled_positions = positions+zeta*shifts,\n",
    "        pbc=True,\n",
    "    )    \n",
    "    twin *= (3, 2, 2)\n",
    "    twin.write(filename=f'str_z={zeta:.3f}.vasp', format='vasp')"
   ]
  },
  {
   "cell_type": "code",
   "execution_count": 10,
   "metadata": {},
   "outputs": [],
   "source": [
    "twin_cell\n",
    "twin_cell.write(filename=f'twin_112-111_Tobe.vasp', format='vasp')"
   ]
  },
  {
   "cell_type": "code",
   "execution_count": null,
   "metadata": {},
   "outputs": [],
   "source": []
  }
 ],
 "metadata": {
  "kernelspec": {
   "display_name": "base",
   "language": "python",
   "name": "python3"
  },
  "language_info": {
   "codemirror_mode": {
    "name": "ipython",
    "version": 3
   },
   "file_extension": ".py",
   "mimetype": "text/x-python",
   "name": "python",
   "nbconvert_exporter": "python",
   "pygments_lexer": "ipython3",
   "version": "3.8.18"
  }
 },
 "nbformat": 4,
 "nbformat_minor": 2
}
