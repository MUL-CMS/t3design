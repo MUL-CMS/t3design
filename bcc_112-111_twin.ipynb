{
 "cells": [
  {
   "cell_type": "code",
   "execution_count": 1,
   "metadata": {},
   "outputs": [],
   "source": [
    "from ase import Atoms\n",
    "from ase.visualize import view\n",
    "import numpy as np"
   ]
  },
  {
   "cell_type": "code",
   "execution_count": 2,
   "metadata": {},
   "outputs": [],
   "source": [
    "a_bcc = 3.11"
   ]
  },
  {
   "cell_type": "code",
   "execution_count": 3,
   "metadata": {},
   "outputs": [
    {
     "data": {
      "application/vnd.jupyter.widget-view+json": {
       "model_id": "79f1a34609df4e0cb1d5b100b61b41da",
       "version_major": 2,
       "version_minor": 0
      },
      "text/plain": []
     },
     "metadata": {},
     "output_type": "display_data"
    },
    {
     "data": {
      "application/vnd.jupyter.widget-view+json": {
       "model_id": "cef816f8d4e444bd9f9e8559e5d73180",
       "version_major": 2,
       "version_minor": 0
      },
      "text/plain": [
       "HBox(children=(NGLWidget(), VBox(children=(Dropdown(description='Show', options=('All', 'Ti'), value='All'), D…"
      ]
     },
     "execution_count": 3,
     "metadata": {},
     "output_type": "execute_result"
    }
   ],
   "source": [
    "bccTi = Atoms(cell=[a_bcc]*3, symbols='Ti2', scaled_positions=[[0, 0, 0], [0.5, 0.5, 0.5]], pbc=True)\n",
    "view(bccTi, viewer='nglview')"
   ]
  },
  {
   "cell_type": "code",
   "execution_count": 12,
   "metadata": {},
   "outputs": [
    {
     "data": {
      "application/vnd.jupyter.widget-view+json": {
       "model_id": "1930bb4abeb14775b713484fbddbf8b0",
       "version_major": 2,
       "version_minor": 0
      },
      "text/plain": [
       "HBox(children=(NGLWidget(), VBox(children=(Dropdown(description='Show', options=('All', 'H'), value='All'), Dr…"
      ]
     },
     "execution_count": 12,
     "metadata": {},
     "output_type": "execute_result"
    }
   ],
   "source": [
    "positions = [np.array([i, 0, (6-2*i)%6]) for i in range(3)] + [np.array([i, 1, (6-2*i+3)%6]) for i in range(3)]\n",
    "positions /= np.array([3, 2, 6])\n",
    "twin_cell = Atoms(\n",
    "    cell = a_bcc*np.array([(1+1+1)**0.5/2, (1+1+0)**0.5, (2**2+1+1)**0.5]),\n",
    "    symbols = 'H6',\n",
    "    scaled_positions = np.array(positions),\n",
    "    pbc=True,\n",
    ")\n",
    "view(twin_cell*(1,1,1), viewer='nglview')"
   ]
  },
  {
   "cell_type": "code",
   "execution_count": 29,
   "metadata": {},
   "outputs": [],
   "source": [
    "bbeta = twin_cell.cell.cellpar()[1]\n",
    "vbeta = twin_cell.cell.cellpar()[0]\n",
    "wbeta = twin_cell.cell.cellpar()[2]\n",
    "\n",
    "shifts = np.array([\n",
    "    np.array([0, 0, 0]),\n",
    "    np.array([0, 0, 0]),\n",
    "    np.array([0, 0, 0]),\n",
    "    np.array([vbeta/2, 0, 0]),\n",
    "    np.array([-vbeta/2, 0, 0]),\n",
    "    np.array([-vbeta/2, 0, 0])\n",
    "])\n",
    "\n",
    "for zeta in np.linspace(0, 1, 43):\n",
    "    twin = twin_cell.copy()\n",
    "    pos = twin.get_positions()\n",
    "    # apply shear\n",
    "    twin.set_cell([[vbeta, 0, 0], [0, bbeta, 0], [-zeta*vbeta, 0, wbeta]], scale_atoms=True)\n",
    "    # apply additional shuffling\n",
    "    twin.set_positions(twin.positions + zeta*shifts)\n",
    "    twin *= (3, 2, 2)\n",
    "    twin.write(filename=f'str_z={zeta:.3f}.vasp', format='vasp')"
   ]
  }
 ],
 "metadata": {
  "kernelspec": {
   "display_name": "base",
   "language": "python",
   "name": "python3"
  },
  "language_info": {
   "codemirror_mode": {
    "name": "ipython",
    "version": 3
   },
   "file_extension": ".py",
   "mimetype": "text/x-python",
   "name": "python",
   "nbconvert_exporter": "python",
   "pygments_lexer": "ipython3",
   "version": "3.8.18"
  }
 },
 "nbformat": 4,
 "nbformat_minor": 2
}
